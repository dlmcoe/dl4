{
 "cells": [
  {
   "cell_type": "code",
   "execution_count": 1,
   "metadata": {},
   "outputs": [],
   "source": [
    "import numpy as np \n",
    "from keras.layers import Input, Dense \n",
    "from keras.models import Model\n",
    "from keras.datasets import mnist"
   ]
  },
  {
   "cell_type": "markdown",
   "metadata": {},
   "source": [
    "load and prepare the MNIST dataset"
   ]
  },
  {
   "cell_type": "code",
   "execution_count": 2,
   "metadata": {},
   "outputs": [
    {
     "name": "stdout",
     "output_type": "stream",
     "text": [
      "Downloading data from https://storage.googleapis.com/tensorflow/tf-keras-datasets/mnist.npz\n",
      "11490434/11490434 [==============================] - 6s 1us/step\n"
     ]
    }
   ],
   "source": [
    "(x_train, _), (x_test, _) = mnist.load_data()"
   ]
  },
  {
   "cell_type": "code",
   "execution_count": 3,
   "metadata": {},
   "outputs": [],
   "source": [
    "x_train = x_train.astype('float32') / 255.\n",
    "x_test = x_test.astype('float32') / 255.\n",
    "x_train = x_train.reshape((len(x_train), np.prod(x_train.shape[1:])))\n",
    "x_test = x_test.reshape((len(x_test), np.prod(x_test.shape[1:])))\n",
    "\n",
    "# build the autoencoder model\n",
    "input_img = Input(shape=(784,))\n",
    "encoded = Dense(32, activation='relu')(input_img) \n",
    "decoded = Dense(784, activation='sigmoid')(encoded)\n",
    "\n",
    "# build the encoder model\n",
    "encoded_input = Input(shape=(32,))\n",
    "encoder = Model(input_img, encoded)\n",
    "\n",
    "autoencoder = Model(input_img, decoded)\n",
    "\n",
    "decoder_layer = autoencoder.layers[-1]\n",
    "decoder = Model(encoded_input, decoder_layer(encoded_input))"
   ]
  },
  {
   "cell_type": "code",
   "execution_count": 4,
   "metadata": {},
   "outputs": [],
   "source": [
    "autoencoder.compile(optimizer='adam', loss='mse')"
   ]
  },
  {
   "cell_type": "code",
   "execution_count": 5,
   "metadata": {},
   "outputs": [
    {
     "name": "stdout",
     "output_type": "stream",
     "text": [
      "Epoch 1/50\n",
      "235/235 [==============================] - 4s 12ms/step - loss: 0.0701 - val_loss: 0.0407\n",
      "Epoch 2/50\n",
      "235/235 [==============================] - 2s 8ms/step - loss: 0.0350 - val_loss: 0.0299\n",
      "Epoch 3/50\n",
      "235/235 [==============================] - 2s 7ms/step - loss: 0.0269 - val_loss: 0.0237\n",
      "Epoch 4/50\n",
      "235/235 [==============================] - 3s 11ms/step - loss: 0.0219 - val_loss: 0.0196\n",
      "Epoch 5/50\n",
      "235/235 [==============================] - 3s 11ms/step - loss: 0.0184 - val_loss: 0.0168\n",
      "Epoch 6/50\n",
      "235/235 [==============================] - 3s 11ms/step - loss: 0.0160 - val_loss: 0.0148\n",
      "Epoch 7/50\n",
      "235/235 [==============================] - 3s 11ms/step - loss: 0.0144 - val_loss: 0.0133\n",
      "Epoch 8/50\n",
      "235/235 [==============================] - 3s 11ms/step - loss: 0.0131 - val_loss: 0.0123\n",
      "Epoch 9/50\n",
      "235/235 [==============================] - 3s 12ms/step - loss: 0.0122 - val_loss: 0.0115\n",
      "Epoch 10/50\n",
      "235/235 [==============================] - 3s 11ms/step - loss: 0.0116 - val_loss: 0.0111\n",
      "Epoch 11/50\n",
      "235/235 [==============================] - 2s 10ms/step - loss: 0.0112 - val_loss: 0.0107\n",
      "Epoch 12/50\n",
      "235/235 [==============================] - 3s 12ms/step - loss: 0.0109 - val_loss: 0.0104\n",
      "Epoch 13/50\n",
      "235/235 [==============================] - 2s 8ms/step - loss: 0.0107 - val_loss: 0.0103\n",
      "Epoch 14/50\n",
      "235/235 [==============================] - 2s 8ms/step - loss: 0.0106 - val_loss: 0.0102\n",
      "Epoch 15/50\n",
      "235/235 [==============================] - 2s 8ms/step - loss: 0.0105 - val_loss: 0.0101\n",
      "Epoch 16/50\n",
      "235/235 [==============================] - 2s 8ms/step - loss: 0.0104 - val_loss: 0.0100\n",
      "Epoch 17/50\n",
      "235/235 [==============================] - 2s 8ms/step - loss: 0.0103 - val_loss: 0.0099\n",
      "Epoch 18/50\n",
      "235/235 [==============================] - 2s 8ms/step - loss: 0.0103 - val_loss: 0.0099\n",
      "Epoch 19/50\n",
      "235/235 [==============================] - 2s 10ms/step - loss: 0.0102 - val_loss: 0.0099\n",
      "Epoch 20/50\n",
      "235/235 [==============================] - 2s 7ms/step - loss: 0.0102 - val_loss: 0.0099\n",
      "Epoch 21/50\n",
      "235/235 [==============================] - 2s 8ms/step - loss: 0.0102 - val_loss: 0.0098\n",
      "Epoch 22/50\n",
      "235/235 [==============================] - 3s 13ms/step - loss: 0.0102 - val_loss: 0.0098\n",
      "Epoch 23/50\n",
      "235/235 [==============================] - 3s 13ms/step - loss: 0.0101 - val_loss: 0.0098\n",
      "Epoch 24/50\n",
      "235/235 [==============================] - 3s 11ms/step - loss: 0.0101 - val_loss: 0.0098\n",
      "Epoch 25/50\n",
      "235/235 [==============================] - 3s 12ms/step - loss: 0.0101 - val_loss: 0.0098\n",
      "Epoch 26/50\n",
      "235/235 [==============================] - 3s 12ms/step - loss: 0.0101 - val_loss: 0.0098\n",
      "Epoch 27/50\n",
      "235/235 [==============================] - 3s 13ms/step - loss: 0.0101 - val_loss: 0.0098\n",
      "Epoch 28/50\n",
      "235/235 [==============================] - 3s 11ms/step - loss: 0.0101 - val_loss: 0.0098\n",
      "Epoch 29/50\n",
      "235/235 [==============================] - 3s 11ms/step - loss: 0.0100 - val_loss: 0.0097\n",
      "Epoch 30/50\n",
      "235/235 [==============================] - 2s 9ms/step - loss: 0.0100 - val_loss: 0.0097\n",
      "Epoch 31/50\n",
      "235/235 [==============================] - 3s 12ms/step - loss: 0.0100 - val_loss: 0.0097\n",
      "Epoch 32/50\n",
      "235/235 [==============================] - 3s 11ms/step - loss: 0.0100 - val_loss: 0.0097\n",
      "Epoch 33/50\n",
      "235/235 [==============================] - 3s 12ms/step - loss: 0.0100 - val_loss: 0.0097\n",
      "Epoch 34/50\n",
      "235/235 [==============================] - 3s 11ms/step - loss: 0.0100 - val_loss: 0.0097\n",
      "Epoch 35/50\n",
      "235/235 [==============================] - 3s 12ms/step - loss: 0.0100 - val_loss: 0.0097\n",
      "Epoch 36/50\n",
      "235/235 [==============================] - 2s 9ms/step - loss: 0.0100 - val_loss: 0.0097\n",
      "Epoch 37/50\n",
      "235/235 [==============================] - 2s 8ms/step - loss: 0.0100 - val_loss: 0.0097\n",
      "Epoch 38/50\n",
      "235/235 [==============================] - 2s 7ms/step - loss: 0.0100 - val_loss: 0.0097\n",
      "Epoch 39/50\n",
      "235/235 [==============================] - 2s 8ms/step - loss: 0.0100 - val_loss: 0.0097\n",
      "Epoch 40/50\n",
      "235/235 [==============================] - 2s 9ms/step - loss: 0.0100 - val_loss: 0.0097\n",
      "Epoch 41/50\n",
      "235/235 [==============================] - 2s 10ms/step - loss: 0.0099 - val_loss: 0.0097\n",
      "Epoch 42/50\n",
      "235/235 [==============================] - 2s 10ms/step - loss: 0.0099 - val_loss: 0.0096\n",
      "Epoch 43/50\n",
      "235/235 [==============================] - 3s 13ms/step - loss: 0.0099 - val_loss: 0.0097\n",
      "Epoch 44/50\n",
      "235/235 [==============================] - 2s 9ms/step - loss: 0.0099 - val_loss: 0.0096\n",
      "Epoch 45/50\n",
      "235/235 [==============================] - 2s 10ms/step - loss: 0.0099 - val_loss: 0.0096\n",
      "Epoch 46/50\n",
      "235/235 [==============================] - 2s 9ms/step - loss: 0.0099 - val_loss: 0.0096\n",
      "Epoch 47/50\n",
      "235/235 [==============================] - 2s 9ms/step - loss: 0.0099 - val_loss: 0.0096\n",
      "Epoch 48/50\n",
      "235/235 [==============================] - 2s 10ms/step - loss: 0.0099 - val_loss: 0.0096\n",
      "Epoch 49/50\n",
      "235/235 [==============================] - 2s 8ms/step - loss: 0.0099 - val_loss: 0.0096\n",
      "Epoch 50/50\n",
      "235/235 [==============================] - 3s 13ms/step - loss: 0.0099 - val_loss: 0.0096\n"
     ]
    }
   ],
   "source": [
    "history = autoencoder.fit(x_train, x_train,\n",
    "                epochs=50,\n",
    "                batch_size=256,\n",
    "                shuffle=True,\n",
    "                validation_data=(x_test, x_test))"
   ]
  },
  {
   "cell_type": "code",
   "execution_count": 6,
   "metadata": {},
   "outputs": [
    {
     "name": "stdout",
     "output_type": "stream",
     "text": [
      "313/313 [==============================] - 1s 2ms/step\n",
      "313/313 [==============================] - 1s 2ms/step\n"
     ]
    }
   ],
   "source": [
    "# use the encoder and decoder for inference\n",
    "encoded_imgs = encoder.predict(x_test) \n",
    "decoded_imgs = decoder.predict(encoded_imgs)"
   ]
  },
  {
   "cell_type": "code",
   "execution_count": 7,
   "metadata": {},
   "outputs": [
    {
     "data": {
      "image/png": "[encoded data removed]",
      "text/plain": [
       "<Figure size 1440x288 with 20 Axes>"
      ]
     },
     "metadata": {
      "needs_background": "light"
     },
     "output_type": "display_data"
    }
   ],
   "source": [
    "import matplotlib.pyplot as plt\n",
    "n = 10  # How many digits we will display\n",
    "plt.figure(figsize=(20, 4))\n",
    "for i in range(n):\n",
    "    # Display original\n",
    "    ax = plt.subplot(2, n, i + 1)\n",
    "    plt.imshow(x_test[i].reshape(28, 28))\n",
    "    plt.gray()\n",
    "    ax.get_xaxis().set_visible(False)\n",
    "    ax.get_yaxis().set_visible(False)\n",
    "    # Display reconstruction\n",
    "    ax = plt.subplot(2, n, i + 1 + n)\n",
    "    plt.imshow(decoded_imgs[i].reshape(28, 28))\n",
    "    plt.gray()\n",
    "    ax.get_xaxis().set_visible(False)\n",
    "    ax.get_yaxis().set_visible(False)\n",
    "plt.show()"
   ]
  },
  {
   "cell_type": "code",
   "execution_count": 8,
   "metadata": {},
   "outputs": [],
   "source": [
    "# calculate reconstruction error as anomaly score\n",
    "mse = np.mean(np.power(x_test - decoded_imgs, 2), axis=1)\n",
    "error_threshold = 2 * mse.mean() "
   ]
  },
  {
   "cell_type": "code",
   "execution_count": 9,
   "metadata": {},
   "outputs": [
    {
     "name": "stdout",
     "output_type": "stream",
     "text": [
      "Found 581 anomalies!\n"
     ]
    }
   ],
   "source": [
    "# detect anomalies\n",
    "anomalies = mse > error_threshold\n",
    "print(\"Found %d anomalies!\" % np.sum(anomalies))"
   ]
  },
  {
   "cell_type": "code",
   "execution_count": 10,
   "metadata": {},
   "outputs": [
    {
     "data": {
      "image/png": "[encoded data removed]",
      "text/plain": [
       "<Figure size 864x432 with 1 Axes>"
      ]
     },
     "metadata": {
      "needs_background": "light"
     },
     "output_type": "display_data"
    }
   ],
   "source": [
    "plt.figure(figsize=(12, 6))\n",
    "plt.plot(history.history['loss'], label='Training Loss')\n",
    "plt.plot(history.history['val_loss'], label='Validation Loss')\n",
    "plt.xlabel('Epochs')\n",
    "plt.ylabel('Loss')\n",
    "plt.legend()\n",
    "plt.show()"
   ]
  }
 ],
 "metadata": {
  "kernelspec": {
   "display_name": "Python 3 (ipykernel)",
   "language": "python",
   "name": "python3"
  },
  "language_info": {
   "codemirror_mode": {
    "name": "ipython",
    "version": 3
   },
   "file_extension": ".py",
   "mimetype": "text/x-python",
   "name": "python",
   "nbconvert_exporter": "python",
   "pygments_lexer": "ipython3",
   "version": "3.8.10"
  }
 },
 "nbformat": 4,
 "nbformat_minor": 2
}
